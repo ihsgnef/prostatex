{
 "cells": [
  {
   "cell_type": "code",
   "execution_count": 1,
   "metadata": {},
   "outputs": [],
   "source": [
    "import os\n",
    "import pickle\n",
    "import numpy as np\n",
    "import pandas as pd\n",
    "\n",
    "from sklearn.model_selection import train_test_split, StratifiedShuffleSplit, StratifiedKFold, GridSearchCV\n",
    "from sklearn.metrics import confusion_matrix, accuracy_score, f1_score, roc_auc_score, recall_score, precision_score\n",
    "from sklearn.svm import SVC\n",
    "from sklearn.pipeline import Pipeline\n",
    "\n",
    "import matplotlib.pyplot as plt\n",
    "%matplotlib inline"
   ]
  },
  {
   "cell_type": "code",
   "execution_count": 152,
   "metadata": {},
   "outputs": [],
   "source": [
    "def calculate_metric(prob, target, threshold=0.5):\n",
    "    pred = prob.copy()\n",
    "    pred[pred >= threshold] = 1\n",
    "    pred[pred < threshold] = 0\n",
    "    tn, fp, fn, tp = confusion_matrix(target, pred).ravel()\n",
    "    m = {}\n",
    "    m['pred'] = pred\n",
    "    m['auc'] = roc_auc_score(target, prob)\n",
    "    m['acc'] = (tp + tn) / (tp + tn + fp + fn)\n",
    "    m['tpr'] = tp / (tp + fn)\n",
    "    m['tnr'] = tn / (tn + fp)\n",
    "    m['ppv'] = tp / (tp + fp)\n",
    "    m['f1'] = 2 * tp / (2 * tp + fp + fn)\n",
    "    return m\n",
    "\n",
    "def scale(x):\n",
    "    xx = np.zeros_like(x)\n",
    "    xx -= np.clip(x, a_min=-np.inf, a_max=0) / x.min()\n",
    "    xx += np.clip(x, a_min=0, a_max=np.inf) / x.max()\n",
    "    return (xx + 1) / 2\n",
    "# scale = lambda x: (x - x.min()) / (x.max() - x.min())"
   ]
  },
  {
   "cell_type": "code",
   "execution_count": 234,
   "metadata": {},
   "outputs": [
    {
     "data": {
      "text/plain": [
       "((317, 3, 5, 5), 0.0, 3028.0625, True)"
      ]
     },
     "execution_count": 234,
     "metadata": {},
     "output_type": "execute_result"
    }
   ],
   "source": [
    "findings = pickle.load(open('tak_npy/findings.pkl', \"rb\"))\n",
    "query = list(findings['0000-1'].keys())\n",
    "_ = query.remove('label'), query.remove('zone')\n",
    "images = np.stack([np.stack([findings[f][q] for q in query]) for f in findings])\n",
    "labels = np.stack([findings[f]['label'] for f in findings])\n",
    "images.shape, images.min(), images.max(), np.isfinite(images).all()"
   ]
  },
  {
   "cell_type": "code",
   "execution_count": 235,
   "metadata": {},
   "outputs": [],
   "source": [
    "images = images.reshape(317, -1)\n",
    "mean = np.tile(images.mean(axis=-1)[..., np.newaxis], (1, 75))\n",
    "std = np.tile(images.std(axis=-1)[..., np.newaxis], (1, 75))\n",
    "images = (images - mean) / std"
   ]
  },
  {
   "cell_type": "code",
   "execution_count": 236,
   "metadata": {},
   "outputs": [
    {
     "data": {
      "text/plain": [
       "(317, 78)"
      ]
     },
     "execution_count": 236,
     "metadata": {},
     "output_type": "execute_result"
    }
   ],
   "source": [
    "features = np.hstack((images.reshape(317, -1), pd.get_dummies([v['zone'] for v in findings.values()]).values))\n",
    "features.shape"
   ]
  },
  {
   "cell_type": "code",
   "execution_count": 237,
   "metadata": {},
   "outputs": [
    {
     "data": {
      "text/plain": [
       "(253, 64, 253, 64)"
      ]
     },
     "execution_count": 237,
     "metadata": {},
     "output_type": "execute_result"
    }
   ],
   "source": [
    "X, y = features, labels.astype(int)\n",
    "X_train, X_test, y_train, y_test = train_test_split(X, y, test_size=0.2, random_state=42, stratify=y)\n",
    "len(X_train), len(X_test), len(y_train), len(y_test)"
   ]
  },
  {
   "cell_type": "code",
   "execution_count": 238,
   "metadata": {},
   "outputs": [
    {
     "data": {
      "text/plain": [
       "{'pred': array([0., 0., 0., 0., 1., 0., 0., 0., 0., 0., 0., 0., 1., 0., 1., 1., 0.,\n",
       "        1., 0., 1., 0., 0., 1., 0., 1., 0., 0., 1., 0., 0., 1., 0., 0., 1.,\n",
       "        1., 0., 1., 0., 1., 1., 0., 0., 0., 0., 0., 0., 0., 0., 0., 0., 0.,\n",
       "        0., 0., 0., 1., 0., 0., 0., 0., 0., 0., 0., 0., 1.]),\n",
       " 'auc': 0.6517006802721088,\n",
       " 'acc': 0.75,\n",
       " 'tpr': 0.5333333333333333,\n",
       " 'tnr': 0.8163265306122449,\n",
       " 'ppv': 0.47058823529411764,\n",
       " 'f1': 0.5}"
      ]
     },
     "execution_count": 238,
     "metadata": {},
     "output_type": "execute_result"
    }
   ],
   "source": [
    "svc = SVC(C=30, gamma=10e-3, class_weight='balanced')\n",
    "svc.fit(X_train, y_train)\n",
    "prob = scale(svc.decision_function(X_test))\n",
    "calculate_metric(prob, y_test)"
   ]
  },
  {
   "cell_type": "code",
   "execution_count": 239,
   "metadata": {},
   "outputs": [],
   "source": [
    "pipe = Pipeline([\n",
    "    ('clf', SVC(class_weight='balanced'))\n",
    "])\n",
    "\n",
    "param_grid = {\n",
    "    'clf__C': [0.1, 0.5, 1, 2, 5, 10, 20, 30, 50],\n",
    "    'clf__gamma': [1e-1, 1e-2, 1e-3, 1e-4, 1e-5],\n",
    "}\n",
    "\n",
    "auc_scorer = lambda estimator, x, y: calculate_metric(scale(estimator.decision_function(x)), y)['auc']\n",
    "\n",
    "search = GridSearchCV(pipe, \n",
    "                      param_grid, \n",
    "                      cv=StratifiedKFold(n_splits=3, shuffle=True, random_state=0), \n",
    "#                       cv=StratifiedShuffleSplit(n_splits=3, random_state=0),\n",
    "                      scoring=auc_scorer,\n",
    "                      n_jobs=-1)"
   ]
  },
  {
   "cell_type": "code",
   "execution_count": 240,
   "metadata": {},
   "outputs": [
    {
     "name": "stdout",
     "output_type": "stream",
     "text": [
      "1.0775988101959229\n"
     ]
    }
   ],
   "source": [
    "import time\n",
    "np.random.seed(0)\n",
    "begin = time.time()\n",
    "search.fit(X, y)\n",
    "print(time.time() - begin)"
   ]
  },
  {
   "cell_type": "code",
   "execution_count": 241,
   "metadata": {},
   "outputs": [
    {
     "data": {
      "text/plain": [
       "({'clf__C': 0.5, 'clf__gamma': 0.1}, 0.7169358292348357)"
      ]
     },
     "execution_count": 241,
     "metadata": {},
     "output_type": "execute_result"
    }
   ],
   "source": [
    "pipe = search.best_estimator_\n",
    "search.best_params_, search.best_score_"
   ]
  },
  {
   "cell_type": "code",
   "execution_count": 232,
   "metadata": {},
   "outputs": [
    {
     "data": {
      "text/plain": [
       "([0.8261728395061728, 0.8048780487804877, 0.7078189300411524],\n",
       " 0.7796232727759377)"
      ]
     },
     "execution_count": 232,
     "metadata": {},
     "output_type": "execute_result"
    }
   ],
   "source": [
    "ms = []\n",
    "for train_index, test_index in search.cv.split(X, y):\n",
    "    prob = scale(pipe.decision_function(X[test_index]))\n",
    "    ms.append(calculate_metric(prob, y[test_index]))\n",
    "[m['auc'] for m in ms], np.mean([m['auc'] for m in ms])"
   ]
  },
  {
   "cell_type": "code",
   "execution_count": null,
   "metadata": {},
   "outputs": [],
   "source": []
  }
 ],
 "metadata": {
  "kernelspec": {
   "display_name": "Python 3",
   "language": "python",
   "name": "python3"
  },
  "language_info": {
   "codemirror_mode": {
    "name": "ipython",
    "version": 3
   },
   "file_extension": ".py",
   "mimetype": "text/x-python",
   "name": "python",
   "nbconvert_exporter": "python",
   "pygments_lexer": "ipython3",
   "version": "3.8.5"
  }
 },
 "nbformat": 4,
 "nbformat_minor": 4
}
